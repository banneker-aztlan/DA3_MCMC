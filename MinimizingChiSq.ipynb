{
 "cells": [
  {
   "cell_type": "markdown",
   "metadata": {},
   "source": [
    "This notebook reviews the exercise of finding the line that best describes a set of datapoints by minimizing the $\\chi^2$ between the data and the linear model.  As an example, we use measurements of stars' masses and radii, and try to find the relationship between them.\n",
    "\n",
    "The \"%matplotlib inline\" allows us to generate plots as we go along."
   ]
  },
  {
   "cell_type": "code",
   "execution_count": null,
   "metadata": {
    "collapsed": true
   },
   "outputs": [],
   "source": [
    "%matplotlib inline\n",
    "import numpy as np\n",
    "import matplotlib.pyplot as plt"
   ]
  },
  {
   "cell_type": "markdown",
   "metadata": {},
   "source": [
    "**Exercise 1**\n",
    "\n",
    "We read in a table which has columns of mass (in solar masses), radius (in solar radii), and the errors in those two quantities.  In this file, comments are denoted by semicolons and the values are separated by commas."
   ]
  },
  {
   "cell_type": "code",
   "execution_count": null,
   "metadata": {
    "collapsed": false
   },
   "outputs": [],
   "source": [
    "data = np.loadtxt('Lopez-Morales07_table1.txt', comments=';', delimiter=',')\n",
    "Mstar = data[:,0]\n",
    "Merr = data[:,1]\n",
    "Rstar = data[:,2]\n",
    "Rerr = data[:,3]"
   ]
  },
  {
   "cell_type": "markdown",
   "metadata": {},
   "source": [
    "Let's plot the data to see what it looks like!  Note that matplotlib can use latex notation, hooray!"
   ]
  },
  {
   "cell_type": "code",
   "execution_count": null,
   "metadata": {
    "collapsed": false
   },
   "outputs": [],
   "source": [
    "plt.xlabel('Mass (M$_\\odot$)')\n",
    "plt.ylabel('Radius (R$_\\odot$)')\n",
    "plt.errorbar(Mstar, Rstar, xerr=Merr, yerr=Rerr, fmt='o')"
   ]
  },
  {
   "cell_type": "markdown",
   "metadata": {},
   "source": [
    "This data looks like it might be well-described by a straight line, y = a0 + a1 x.  We want to find the values of a0 and a1 that fit the data best.\n",
    "\n",
    "One way to describe the difference between a model and data is by $\\chi^2$ (\"chi-squared\"), defined as\n",
    "\n",
    "$\\chi^2 = \\sum_i \\frac{(\\rm{model}(x_i) - \\rm{data}(x_i))^2}{\\sigma_i^2}$\n",
    "\n",
    "The skeleton of a function to calculate $\\chi^2$ is below.  **To do:** Implement this function.  \n",
    "\n",
    "(Hints: \n",
    "- If you use the function np.sum which sums over all the elements in an array, it is only one line!  \n",
    "- Recall that exponentiation in Python uses the operator \\*\\*, not ^.  \n",
    "- For now we will only consider the errors in the y-values - we'll figure out how to deal with 2d errors later!)"
   ]
  },
  {
   "cell_type": "code",
   "execution_count": null,
   "metadata": {
    "collapsed": true
   },
   "outputs": [],
   "source": [
    "def chi2(A0, A1, X, D, SIG): \n",
    "    ''' Calculates chi^2 between the data (X, D) and the line described by y = A0 + A1*x\n",
    "    \n",
    "        Input\n",
    "        =====\n",
    "        A0 : y-intercept of the model\n",
    "        A1 : slope of the model\n",
    "        X : array of x-values from the data\n",
    "        D : array of y-values from the data\n",
    "        SIG : the expected variance of the y-values\n",
    "            (could be a single value, or an array of the same length as X and D)\n",
    "    '''\n",
    "    # YOUR CODE HERE\n",
    "    \n",
    "    return chi2 "
   ]
  },
  {
   "cell_type": "markdown",
   "metadata": {},
   "source": [
    "Now we can use $\\chi^2$ to quantify the goodness-of-fit between the model and data.  The code below defines a set of x-data, a slope, and an intercept, and calculates the corresponding y-values. "
   ]
  },
  {
   "cell_type": "code",
   "execution_count": null,
   "metadata": {
    "collapsed": true
   },
   "outputs": [],
   "source": [
    "xplot = np.linspace(0,1,20)\n",
    "a0 = 0.4    # y-intercept\n",
    "a1 = 0.0    # slope\n",
    "yplot = a0 + a1*xplot"
   ]
  },
  {
   "cell_type": "markdown",
   "metadata": {},
   "source": [
    "This code plots the line we just defined on top of the data.  It also calculates $\\chi^2$ using the function you just defined, and quotes the value in the top left panel.\n",
    "\n",
    "**To do:** Try playing around with the values of a0 and a1, and see how small of a $\\chi^2$ you can get!"
   ]
  },
  {
   "cell_type": "code",
   "execution_count": null,
   "metadata": {
    "collapsed": false
   },
   "outputs": [],
   "source": [
    "plt.xlabel('Mass (M$_\\odot$)')\n",
    "plt.ylabel('Radius (R$_\\odot$)')\n",
    "plt.plot(Mstar, Rstar, 'o', color='blue')\n",
    "plt.plot(xplot,yplot,color='red')\n",
    "plt.text(0.1, 0.9, \"$\\chi^2$ = \" + \"{:1.1f}\".format(chi2(a0,a1,Mstar,Rstar,Rerr)))"
   ]
  },
  {
   "cell_type": "markdown",
   "metadata": {},
   "source": [
    "**Exercise 2**\n",
    "\n",
    "Obviously, manually playing around with a0 and a1 is not the most efficient way to find the best values.  Instead, let's define a grid of a0 and a1 values, and see which has the smallest $\\chi^2$.\n",
    "\n",
    "The code below initializes arrays of a0 and a1, as well as an empty array for the corresponding $\\chi^2$ values.  \n",
    "**To do:** Fill in the $\\chi^2$ array by iterating over the a0, a1 values."
   ]
  },
  {
   "cell_type": "code",
   "execution_count": null,
   "metadata": {
    "collapsed": false
   },
   "outputs": [],
   "source": [
    "a0grid = np.linspace(-0.5, 0.5, 100)\n",
    "a1grid = np.linspace(0.5, 1.5, 100)\n",
    "chi2grid = np.zeros((100,100))\n",
    "\n",
    "# YOUR CODE HERE"
   ]
  },
  {
   "cell_type": "markdown",
   "metadata": {},
   "source": [
    "Execute the code below to produce an image of your $\\chi^2$ grid.  (The flips and transpositions are there to make the image display in the proper orientation... I don't know why Python is like this.)\n",
    "\n",
    "How close was your eyeball estimate from earlier to the minimum $\\chi^2$?"
   ]
  },
  {
   "cell_type": "code",
   "execution_count": null,
   "metadata": {
    "collapsed": false
   },
   "outputs": [],
   "source": [
    "plt.imshow(np.flipud(np.log10(chi2grid).T), extent=[-0.5, 0.5, 0.5, 1.5])\n",
    "plt.xlabel('a0')\n",
    "plt.ylabel('a1')"
   ]
  },
  {
   "cell_type": "markdown",
   "metadata": {},
   "source": [
    "The np.argmin() function gives you the index of the minimum value of $\\chi^2$ within the array.  Unfortunately, this is a \"flattened\" index, which means that rather than an (i,j) for the (row, column), it just gives you a (k) out of (row\\*column).  However, since our chi2grid array has a shape of 100x100, this conveniently means that the first two digits of the index are the row, and the last two are the column.  (Think about why this is so!)"
   ]
  },
  {
   "cell_type": "code",
   "execution_count": null,
   "metadata": {
    "collapsed": false
   },
   "outputs": [],
   "source": [
    "print(np.argmin(chi2grid))"
   ]
  },
  {
   "cell_type": "markdown",
   "metadata": {},
   "source": [
    "**To do:** Find the values of a0 and a1 that correspond to this location.  "
   ]
  },
  {
   "cell_type": "code",
   "execution_count": null,
   "metadata": {
    "collapsed": false
   },
   "outputs": [],
   "source": [
    "# FINISH THESE LINES\n",
    "a0min = \n",
    "a1min = \n",
    "print(a0min, a1min)"
   ]
  },
  {
   "cell_type": "markdown",
   "metadata": {
    "collapsed": false
   },
   "source": [
    "Now let's plot this location on top of the image from earlier.  If everything has come out right, we should get a red dot right on top of the $\\chi^2$ minimum!"
   ]
  },
  {
   "cell_type": "code",
   "execution_count": null,
   "metadata": {
    "collapsed": false
   },
   "outputs": [],
   "source": [
    "plt.axis([-0.5, 0.5, 0.5, 1.5])\n",
    "plt.imshow(np.flipud(np.log10(chi2grid).T), extent=[-0.5, 0.5, 0.5, 1.5])\n",
    "plt.xlabel('a0')\n",
    "plt.ylabel('a1')\n",
    "plt.plot([a0min], [a1min], 'o', color='red')"
   ]
  },
  {
   "cell_type": "markdown",
   "metadata": {},
   "source": [
    "Finally, let's check out how our model looks in comparison to the data.  \n",
    "**To do:** Define a line using your best-fit values, and plot it over the data below!"
   ]
  },
  {
   "cell_type": "code",
   "execution_count": null,
   "metadata": {
    "collapsed": false
   },
   "outputs": [],
   "source": [
    "plt.xlabel('Mass (M$_\\odot$)')\n",
    "plt.ylabel('Radius (R$_\\odot$)')\n",
    "plt.errorbar(Mstar, Rstar, yerr=Rerr, fmt='o', color='blue')\n",
    "plt.text(0.1, 0.9, \"$\\chi^2$ = \" + \"{:1.1f}\".format(chi2(a0min,a1min,Mstar,Rstar,Rerr)))\n",
    "\n",
    "# YOUR CODE HERE"
   ]
  },
  {
   "cell_type": "markdown",
   "metadata": {
    "collapsed": true
   },
   "source": [
    "**Exercise 3**\n",
    "\n",
    "Let's use linear algebra to find the exact solution!  We've just figured out that \n",
    "\n",
    "$$ \n",
    "\\begin{bmatrix}\n",
    "a_0 \\\\\n",
    "a_1 \n",
    "\\end{bmatrix}\n",
    "= \n",
    "\\frac{1}{\\Delta}\n",
    "\\begin{bmatrix}\n",
    "\\sum x_i^2/\\sigma_i^2 & - \\sum x_i/\\sigma_i^2 \\\\\n",
    "-\\sum x_i/\\sigma_i^2 & \\sum 1/\\sigma_i^2 \n",
    "\\end{bmatrix}\n",
    "\\begin{bmatrix}\n",
    "\\sum y_i^2/\\sigma_i^2 \\\\\n",
    "-\\sum x_i y_i/\\sigma_i^2 \n",
    "\\end{bmatrix}\n",
    "$$\n",
    "\n",
    "where $\\Delta = (\\sum x_i^2/\\sigma_i^2)(\\sum 1/\\sigma_i^2) - (\\sum x_i/\\sigma_i^2)^2$ is the determinant of the square matrix.\n",
    "\n",
    "**To do:** Compute all of the necessary sums for our data.  I've done the first two for you."
   ]
  },
  {
   "cell_type": "code",
   "execution_count": null,
   "metadata": {
    "collapsed": true
   },
   "outputs": [],
   "source": [
    "nothingsum = np.sum(1./Rerr**2)\n",
    "xsum = np.sum(Mstar/Rerr**2)\n",
    "# FINISH THESE LINES\n",
    "x2sum = \n",
    "ysum = \n",
    "xysum = "
   ]
  },
  {
   "cell_type": "markdown",
   "metadata": {},
   "source": [
    "**To do:** Compute the determinant $\\Delta$."
   ]
  },
  {
   "cell_type": "code",
   "execution_count": null,
   "metadata": {
    "collapsed": true
   },
   "outputs": [],
   "source": [
    "# FINISH THIS LINE\n",
    "determinant = "
   ]
  },
  {
   "cell_type": "markdown",
   "metadata": {},
   "source": [
    "**To do:** Compute $a_0$ and $a_1$!  How do they compare to your earlier values?"
   ]
  },
  {
   "cell_type": "code",
   "execution_count": null,
   "metadata": {
    "collapsed": true
   },
   "outputs": [],
   "source": [
    "# FINISH THESE LINES\n",
    "a0lin = \n",
    "a1lin = "
   ]
  },
  {
   "cell_type": "code",
   "execution_count": null,
   "metadata": {
    "collapsed": false
   },
   "outputs": [],
   "source": [
    "print(a0lin, a0min)"
   ]
  },
  {
   "cell_type": "code",
   "execution_count": null,
   "metadata": {
    "collapsed": false
   },
   "outputs": [],
   "source": [
    "print(a1lin, a1min)"
   ]
  },
  {
   "cell_type": "code",
   "execution_count": null,
   "metadata": {
    "collapsed": true
   },
   "outputs": [],
   "source": []
  }
 ],
 "metadata": {
  "kernelspec": {
   "display_name": "Python 3",
   "language": "python",
   "name": "python3"
  },
  "language_info": {
   "codemirror_mode": {
    "name": "ipython",
    "version": 3
   },
   "file_extension": ".py",
   "mimetype": "text/x-python",
   "name": "python",
   "nbconvert_exporter": "python",
   "pygments_lexer": "ipython3",
   "version": "3.5.1"
  }
 },
 "nbformat": 4,
 "nbformat_minor": 0
}
