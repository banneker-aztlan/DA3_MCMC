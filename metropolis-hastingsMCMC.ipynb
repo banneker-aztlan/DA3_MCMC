{
 "cells": [
  {
   "cell_type": "markdown",
   "metadata": {},
   "source": [
    "This notebook follows \"badgradientMCMC\" and develops an MCMC walker that uses the Metropolis-Hastings algorithm."
   ]
  },
  {
   "cell_type": "code",
   "execution_count": null,
   "metadata": {
    "collapsed": false
   },
   "outputs": [],
   "source": [
    "%matplotlib inline\n",
    "import numpy as np\n",
    "import matplotlib.pyplot as plt\n",
    "import math"
   ]
  },
  {
   "cell_type": "markdown",
   "metadata": {},
   "source": [
    "**Exercise 1**\n",
    "\n",
    "As we discussed yesterday, an MCMC algorithm which only moves in the direction of increasing likelihood is very susceptible to getting trapped in local $\\chi^2$ minima, and may not be able to find the global solution.\n",
    "\n",
    "The function below is one such example.  If we had a likelihood space like this, we would never find the global minimum!  Execute the two sections below to see what it looks like."
   ]
  },
  {
   "cell_type": "code",
   "execution_count": null,
   "metadata": {
    "collapsed": false
   },
   "outputs": [],
   "source": [
    "def wavygaussian(x, y, a=5., mu=0., sig=4., omega=1.5):\n",
    "    r = np.sqrt(x**2 + y**2)\n",
    "    z = -1*(a*np.exp(-(r - mu)**2 / (2 * sig**2))*(2+np.cos(omega*r))) + 3*a\n",
    "    return z\n",
    "\n",
    "xplot = np.linspace(-10, 10, 100)\n",
    "yplot = np.linspace(-10, 10, 100)\n",
    "zplot = np.zeros([100,100])\n",
    "for i in range(0,100):\n",
    "    for j in range(0,100):\n",
    "        zplot[i,j] = wavygaussian(xplot[i], yplot[j])\n",
    "        \n",
    "plt.imshow(np.flipud(zplot.T), extent=[-10, 10, -10, 10])"
   ]
  },
  {
   "cell_type": "markdown",
   "metadata": {},
   "source": [
    "Below is a 1-d slice across the middle."
   ]
  },
  {
   "cell_type": "code",
   "execution_count": null,
   "metadata": {
    "collapsed": false
   },
   "outputs": [],
   "source": [
    "plt.plot(yplot, wavygaussian(0,yplot))"
   ]
  },
  {
   "cell_type": "markdown",
   "metadata": {},
   "source": [
    "If the plot above shows $\\chi^2$, what is the likelihood?\n",
    "\n",
    "**To do:** Plot the likelihood in a slice across x=0."
   ]
  },
  {
   "cell_type": "code",
   "execution_count": null,
   "metadata": {
    "collapsed": false
   },
   "outputs": [],
   "source": [
    "# YOUR CODE HERE"
   ]
  },
  {
   "cell_type": "markdown",
   "metadata": {},
   "source": [
    "Let's take our \"bad gradient MCMC\" code from yesterday.  It will need to be modified to use \"wavygaussian\" instead of \"chi2\".  \n",
    "\n",
    "**To do:** Make that modification and execute the code.  What happens?  Does changing the step size or number of steps help?  (Hint: There is actually a way to get to the likelihood maximum from (3,3) with this algorithm - see if you can find it!)"
   ]
  },
  {
   "cell_type": "code",
   "execution_count": null,
   "metadata": {
    "collapsed": false
   },
   "outputs": [],
   "source": [
    "# Initial location\n",
    "a0 = 3.\n",
    "a1 = 3.\n",
    "# Step sizes (sigmas of normal distributions)\n",
    "da0 = 0.1\n",
    "da1 = 0.1\n",
    "# Total number of steps to take\n",
    "nsteps = 1000\n",
    "# Lists for keeping track of location\n",
    "a0list = [a0]\n",
    "a1list = [a1]\n",
    "\n",
    "for i in range(0,nsteps):\n",
    "    # Draw values for delta a0 and delta a1 from a normal distribution\n",
    "    a0step = np.random.normal(scale=da0)\n",
    "    a1step = np.random.normal(scale=da1)\n",
    "    # MODIFY THE LINE BELOW\n",
    "    if chi2(a0 + a0step, a1 + a1step, Mstar, Rstar, Merr, Rerr) < chi2(a0, a1, Mstar, Rstar, Merr, Rerr):\n",
    "        a0 += a0step\n",
    "        a1 += a1step\n",
    "    \n",
    "    a0list.append(a0)\n",
    "    a1list.append(a1)\n",
    "\n",
    "plt.imshow(np.flipud(zplot.T), extent=[-10, 10, -10, 10])\n",
    "plt.axis([-10,10,-10,10])\n",
    "plt.xlabel('a0')\n",
    "plt.ylabel('a1')\n",
    "plt.plot(a0list, a1list, 'o', color='white', ms=2, markeredgewidth=0)  "
   ]
  },
  {
   "cell_type": "markdown",
   "metadata": {},
   "source": [
    "**Exercise 2**\n",
    "\n",
    "According to the Metropolis-Hastings algorithm, we should not immediately reject any step that would decrease the likelihood.  Instead, we should sometimes allow it to take that step, with a probability proportional to the likelihood ratio.\n",
    "\n",
    "Concretely, what this would look like is an \"else\" block after the \"if\", which\n",
    "\n",
    "1) Calculates the likelihood ratio,\n",
    "\n",
    "2) Draws a random number between 0 and 1, and\n",
    "\n",
    "3) Accepts the step if the likelihood ratio is above that value.\n",
    "\n",
    "**To do:** Implement this else block.  Then, mess around with the parameters again and see what happens!\n",
    "\n",
    "Hint: for step 2 you may want to use the function \"np.random.uniform\".  If you are not familiar with this function, google it!"
   ]
  },
  {
   "cell_type": "code",
   "execution_count": null,
   "metadata": {
    "collapsed": false
   },
   "outputs": [],
   "source": [
    "# Initial location\n",
    "a0 = 3.\n",
    "a1 = 3.\n",
    "# Step sizes (sigmas of normal distributions)\n",
    "da0 = 0.1\n",
    "da1 = 0.1\n",
    "# Total number of steps to take\n",
    "nsteps = 1000\n",
    "# Lists for keeping track of location\n",
    "a0list = [a0]\n",
    "a1list = [a1]\n",
    "\n",
    "for i in range(0,nsteps):\n",
    "    # Draw values for delta a0 and delta a1 from a normal distribution\n",
    "    a0step = np.random.normal(scale=da0)\n",
    "    a1step = np.random.normal(scale=da1)\n",
    "    if wavygaussian(a0 + a0step, a1 + a1step) < wavygaussian(a0, a1):\n",
    "        a0 += a0step\n",
    "        a1 += a1step\n",
    "    else:  # IMPLEMENT THIS\n",
    "        # r = the likelihood ratio\n",
    "        # u = a random number between 0 and 1\n",
    "        # accept the step if r > u\n",
    "    \n",
    "    a0list.append(a0)\n",
    "    a1list.append(a1)\n",
    "\n",
    "plt.imshow(np.flipud(zplot.T), extent=[-10, 10, -10, 10])\n",
    "plt.axis([-10,10,-10,10])\n",
    "plt.xlabel('a0')\n",
    "plt.ylabel('a1')\n",
    "plt.plot(a0list, a1list, 'o', color='white', ms=2, markeredgewidth=0)  "
   ]
  },
  {
   "cell_type": "markdown",
   "metadata": {},
   "source": [
    "There are a few useful/interesting plots that we can make using that sequence of a0 and a1 values.  In particular, since the distribution has spherical symmetry, we are most interested in the radial distance r. \n",
    "\n",
    "**To do:** Define a variable rlist that is the radial distance from (0,0) for each of your MCMC steps.  Plot the radial distance as a function of time.  What interesting features does this sequence have?  How does it correspond to the $\\chi^2$ distribution we plotted earlier?"
   ]
  },
  {
   "cell_type": "code",
   "execution_count": null,
   "metadata": {
    "collapsed": false
   },
   "outputs": [],
   "source": [
    "# FINISH THIS LINE\n",
    "rlist = \n",
    "plt.plot(rlist)"
   ]
  },
  {
   "cell_type": "markdown",
   "metadata": {},
   "source": [
    "If the Metropolis-Hastings algorithm is truly *ergodic*, then the distribution of r-values visited by our walker should correspond to the underlying likelihood that we plotted earlier (assuming that we have taken enough steps).  \n",
    "\n",
    "The code below computes a histogram of your list of r-values.  We can evaluate the performance of the algorithm by comparing this histogram to the likelihood - but they are not directly comparable as the code is currently written.  There is a missing step which transforms / normalizes the histogram so that the two can be compared.\n",
    "\n",
    "**To do:** Think about the meaning behind (a) the likelihood we are plotting, and (b) the histogram we have calculated.  What is the necessary transformation?  Implement it, and then (as always) mess around with the MCMC parameters to see how the distribution changes.\n",
    "\n",
    "Hint: If you are not matching the likelihood distribution after implementing your transformation, it is not necessarily because you have done it incorrectly - you may just have a non-representative set of r-values.  Try changing the MCMC parameters or simply rerunning it before giving up on your solution!"
   ]
  },
  {
   "cell_type": "code",
   "execution_count": null,
   "metadata": {
    "collapsed": false
   },
   "outputs": [],
   "source": [
    "# Computes a histogram of r-values.  Note that hist has length 50 and edges has length 51.\n",
    "hist, edges = np.histogram(rlist, bins=50, range=(0,10))\n",
    "# Calculates the location of the center of each histogram bin\n",
    "mids = (edges[1:]+edges[:-1])/2.\n",
    "\n",
    "# Plots a slice in likelihood across x = 0, from y = 0 to 10\n",
    "plt.plot(yplot[50:], np.exp(-wavygaussian(0,yplot[50:])/2.))\n",
    "\n",
    "# TO DO: How do you need to normalize / transform the histogram to get it to be \n",
    "# comparable to the likelihood as we have plotted it?\n",
    "\n",
    "# Plots the transformed histogram as points\n",
    "plt.plot(mids,hist, 'o')"
   ]
  },
  {
   "cell_type": "markdown",
   "metadata": {},
   "source": [
    "**Exercise 3**\n",
    "\n",
    "Now, let's return to the dataset we have been using throughout the week.  The code block below has the same functionality as yesterday, the differences being that I have renamed chi2 into chi2line, changed the structure of the arguments, and made it a \"reduced $\\chi^2$\" (i.e., divided out the number of degrees of freedom).  Take a look to make sure you understand how the changes work."
   ]
  },
  {
   "cell_type": "code",
   "execution_count": null,
   "metadata": {
    "collapsed": false
   },
   "outputs": [],
   "source": [
    "data = np.loadtxt('Lopez-Morales07_table1.txt', comments=';', delimiter=',')\n",
    "Mstar = data[:,0]\n",
    "Merr = data[:,1]\n",
    "Rstar = data[:,2]\n",
    "Rerr = data[:,3]\n",
    "\n",
    "def chi2line(p, xi, yi, err): \n",
    "    ''' Calculates chi^2 between the data (xi, yi) and the line described by y = p[0] + p[1]*x\n",
    "    \n",
    "        Input\n",
    "        =====\n",
    "        p : An array of parameter values.  The first element is the y-intercept \n",
    "            of the model and the second element is the slope.\n",
    "        xi : array of x-values from the data\n",
    "        yi : array of y-values from the data\n",
    "        err : A 2xN array of the expected variance of each data point, where the \n",
    "            first column corresponds to the x-errors and the second to the y-errors            \n",
    "    '''\n",
    "\n",
    "    chi2 = np.sum((p[0] + p[1]*xi - yi)**2/(err[1,:]**2+(err[0,:]*p[1])**2))/(len(xi)-1)\n",
    "    \n",
    "    return chi2 \n",
    "\n",
    "a0grid = np.linspace(-0.5, 0.5, 100)\n",
    "a1grid = np.linspace(0.5, 1.5, 100)\n",
    "chi2grid = np.zeros((100,100))\n",
    "\n",
    "for i in range(0,100):\n",
    "    for j in range(0,100):\n",
    "        chi2grid[i,j] = chi2line([a0grid[i],a1grid[j]],Mstar,Rstar,np.array([Merr,Rerr]))\n",
    "        \n",
    "plt.imshow(np.flipud(np.log10(chi2grid).T), extent=[-0.5, 0.5, 0.5, 1.5])\n",
    "plt.xlabel('a0')\n",
    "plt.ylabel('a1')"
   ]
  },
  {
   "cell_type": "markdown",
   "metadata": {},
   "source": [
    "Let's apply our Metropolis-Hastings MCMC algorithm to this dataset!\n",
    "\n",
    "**To do:** Copy your MCMC code from above and modify it to apply to the dataset.  Keep in mind how the chi2 function has been rearranged!\n",
    "\n",
    "**Stretch goal:** Instead of rewriting the same code all over again every time you want to run an MCMC, try writing a more general MCMC function that can be applied to any problem!  I have gotten you started with a suggested interface in the next block."
   ]
  },
  {
   "cell_type": "code",
   "execution_count": null,
   "metadata": {
    "collapsed": false
   },
   "outputs": [],
   "source": [
    "# Initial location\n",
    "a0 = -0.2\n",
    "a1 = 0.8\n",
    "# Step sizes (sigmas of normal distributions)\n",
    "da0 = 0.1\n",
    "da1 = 0.1\n",
    "# Total number of steps to take\n",
    "nsteps = 1000\n",
    "# Lists for keeping track of location\n",
    "a0list = [a0]\n",
    "a1list = [a1]\n",
    "\n",
    "#YOUR CODE HERE\n",
    "\n",
    "plt.imshow(np.flipud(np.log10(chi2grid).T), extent=[-0.5, 0.5, 0.5, 1.5])\n",
    "plt.xlabel('a0')\n",
    "plt.ylabel('a1')\n",
    "plt.plot(a0list, a1list, 'o', color='white', ms=2, markeredgewidth=0)  "
   ]
  },
  {
   "cell_type": "code",
   "execution_count": null,
   "metadata": {
    "collapsed": false
   },
   "outputs": [],
   "source": [
    "# Initial location\n",
    "pinit = np.array([-0.2, 0.8])\n",
    "# Step sizes (sigmas of normal distributions)\n",
    "stepsize = np.array([0.1, 0.1])\n",
    "# Total number of steps to take\n",
    "nsteps = 1000\n",
    "\n",
    "def mhMCMC(xi, yi, err, chi2func, initparams, stepsize, nsteps):\n",
    "    ''' Performs a Markov Chain Monte Carlo chain using the Metropolis-Hastings algorithm\n",
    "        to explore the parameter space for the given model and data.  Returns the sequence\n",
    "        of steps taken.\n",
    "    \n",
    "        Input\n",
    "        =====\n",
    "        xi : An array giving the x-values of the data\n",
    "        yi : An array giving the y-values of the data\n",
    "        err : An array giving the errors on the data.  \n",
    "              May be 1xN (for y-errors only) or 2xN (for x- and y- errors), \n",
    "              must match what's expected by chi2func.\n",
    "        chi2func : A function which calculates the chi-squared between the data\n",
    "                   and model.  Must take arguments (params, xi, yi, err).\n",
    "        initparams : An array [a0, a1, a2...] giving the initial position in parameter space.\n",
    "        stepsize : An array [da0, da1, da2...] giving the sigma of the normal distributions\n",
    "                   from which the steps are drawn.  Must be the same length as initparams.\n",
    "        nsteps : The number of steps to take.\n",
    "                \n",
    "        Returns\n",
    "        =======\n",
    "        p : An array of positions in parameter space, with dimensions (nsteps+1, nparams)\n",
    "    '''\n",
    "\n",
    "    return plist\n",
    "\n",
    "# Run the MCMC!\n",
    "p = mhMCMC(Mstar, Rstar, np.array([Merr,Rerr]), chi2line, pinit, stepsize, nsteps)\n",
    "\n",
    "# Plotting\n",
    "plt.imshow(np.flipud(np.log10(chi2grid).T), extent=[-0.5, 0.5, 0.5, 1.5])\n",
    "plt.xlabel('a0')\n",
    "plt.ylabel('a1')\n",
    "plt.plot(p[:,0], p[:,1], 'o', color='white', ms=2, markeredgewidth=0)  "
   ]
  },
  {
   "cell_type": "markdown",
   "metadata": {},
   "source": [
    "**To do:** Make a histogram of the a0 and a1 values, and find the median and mean of these distributions.  How do they compare to the best-fit values we got earlier?\n",
    "\n",
    "And, you don't need me to tell you again - explore what happens when you change the MCMC parameters!"
   ]
  },
  {
   "cell_type": "code",
   "execution_count": null,
   "metadata": {
    "collapsed": false
   },
   "outputs": [],
   "source": [
    "# YOUR CODE HERE\n"
   ]
  },
  {
   "cell_type": "code",
   "execution_count": null,
   "metadata": {
    "collapsed": false
   },
   "outputs": [],
   "source": []
  },
  {
   "cell_type": "code",
   "execution_count": null,
   "metadata": {
    "collapsed": false
   },
   "outputs": [],
   "source": []
  },
  {
   "cell_type": "code",
   "execution_count": null,
   "metadata": {
    "collapsed": false
   },
   "outputs": [],
   "source": []
  },
  {
   "cell_type": "code",
   "execution_count": null,
   "metadata": {
    "collapsed": true
   },
   "outputs": [],
   "source": []
  }
 ],
 "metadata": {
  "kernelspec": {
   "display_name": "Python 3",
   "language": "python",
   "name": "python3"
  },
  "language_info": {
   "codemirror_mode": {
    "name": "ipython",
    "version": 3
   },
   "file_extension": ".py",
   "mimetype": "text/x-python",
   "name": "python",
   "nbconvert_exporter": "python",
   "pygments_lexer": "ipython3",
   "version": "3.5.1"
  }
 },
 "nbformat": 4,
 "nbformat_minor": 0
}
